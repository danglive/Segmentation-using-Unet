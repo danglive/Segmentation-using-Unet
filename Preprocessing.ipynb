{
  "nbformat": 4,
  "nbformat_minor": 0,
  "metadata": {
    "colab": {
      "name": "SegFingerNails.ipynb",
      "provenance": []
    },
    "kernelspec": {
      "name": "python3",
      "display_name": "Python 3"
    }
  },
  "cells": [
    {
      "cell_type": "markdown",
      "metadata": {
        "id": "w1UZd9pZ9Eag",
        "colab_type": "text"
      },
      "source": [
        "#Preprocessing"
      ]
    },
    {
      "cell_type": "markdown",
      "metadata": {
        "id": "ELd_Se0F9STn",
        "colab_type": "text"
      },
      "source": [
        "Load dataset"
      ]
    },
    {
      "cell_type": "code",
      "metadata": {
        "id": "DJcqO6Ao8bpO",
        "colab_type": "code",
        "outputId": "f6767006-180f-4ebd-f0ec-01348915ab13",
        "colab": {
          "base_uri": "https://localhost:8080/",
          "height": 289
        }
      },
      "source": [
        "!wget \"https://github.com/danglive/Segmentation-using-Unet/raw/master/nails.tar.gz\""
      ],
      "execution_count": 3,
      "outputs": [
        {
          "output_type": "stream",
          "text": [
            "--2019-11-16 18:39:10--  https://github.com/danglive/Segmentation-using-Unet/raw/master/nails.tar.gz\n",
            "Resolving github.com (github.com)... 192.30.253.113\n",
            "Connecting to github.com (github.com)|192.30.253.113|:443... connected.\n",
            "HTTP request sent, awaiting response... 302 Found\n",
            "Location: https://raw.githubusercontent.com/danglive/Segmentation-using-Unet/master/nails.tar.gz [following]\n",
            "--2019-11-16 18:39:10--  https://raw.githubusercontent.com/danglive/Segmentation-using-Unet/master/nails.tar.gz\n",
            "Resolving raw.githubusercontent.com (raw.githubusercontent.com)... 151.101.0.133, 151.101.64.133, 151.101.128.133, ...\n",
            "Connecting to raw.githubusercontent.com (raw.githubusercontent.com)|151.101.0.133|:443... connected.\n",
            "HTTP request sent, awaiting response... 200 OK\n",
            "Length: 19094516 (18M) [application/octet-stream]\n",
            "Saving to: ‘nails.tar.gz’\n",
            "\n",
            "\rnails.tar.gz          0%[                    ]       0  --.-KB/s               \rnails.tar.gz         71%[=============>      ]  13.04M  64.8MB/s               \rnails.tar.gz        100%[===================>]  18.21M  74.9MB/s    in 0.2s    \n",
            "\n",
            "2019-11-16 18:39:11 (74.9 MB/s) - ‘nails.tar.gz’ saved [19094516/19094516]\n",
            "\n"
          ],
          "name": "stdout"
        }
      ]
    },
    {
      "cell_type": "code",
      "metadata": {
        "id": "Z1n5J0hWli45",
        "colab_type": "code",
        "colab": {}
      },
      "source": [
        "import numpy as np\n",
        "import tarfile\n",
        "import matplotlib.pyplot as plt\n",
        "import os\n",
        "from PIL import Image\n",
        "from sklearn.model_selection import train_test_split\n",
        "import keras\n",
        "from keras.models import Model\n",
        "from keras.layers import Conv2D, MaxPooling2D, Input, Conv2DTranspose, Concatenate\n",
        "from keras.optimizers import Adam, SGD\n",
        "from keras.callbacks import ModelCheckpoint, ReduceLROnPlateau, EarlyStopping\n",
        "from keras import backend as K\n",
        "from keras.utils import plot_model\n",
        "import tensorflow as tf\n",
        "from IPython.display import clear_output"
      ],
      "execution_count": 0,
      "outputs": []
    },
    {
      "cell_type": "code",
      "metadata": {
        "id": "tpol2vkbi7_2",
        "colab_type": "code",
        "colab": {}
      },
      "source": [
        "class preprocess:\n",
        "    \n",
        "    epochs = 50\n",
        "    batch_size = 4\n",
        "    val_split = .1\n",
        "    sz = (192, 160)\n",
        "    \n",
        "    def __init__(self, dataset):\n",
        "        if len(dataset):\n",
        "            tar = tarfile.open(dataset)\n",
        "            tar.extractall()\n",
        "            tar.close()\n",
        "        mask_files = os.listdir('nails/mask')\n",
        "        raw_files = os.listdir('nails/raw')\n",
        "        # find intersection of two lists\n",
        "        files = list(set(raw_files).intersection(mask_files))\n",
        "        test_files = list(set(mask_files).symmetric_difference(raw_files))\n",
        "        X_train = []\n",
        "        X_test = []\n",
        "        y = []\n",
        "        for f in files:\n",
        "            mask = Image.open('nails/mask/'+f)\n",
        "            mask = np.array(mask.resize(self.sz))\n",
        "            mask = mask.mean(axis=2)\n",
        "            mask[mask<250]=0\n",
        "            mask[mask>0]=1\n",
        "            if not mask.sum():\n",
        "                continue\n",
        "            y.append(mask)\n",
        "            raw = Image.open('nails/raw/'+f)\n",
        "            raw = np.array(raw.resize(self.sz))\n",
        "            X_train.append(raw)\n",
        "        for f in test_files:\n",
        "            try:\n",
        "                raw = Image.open('nails/raw/'+f)\n",
        "            except:\n",
        "                continue\n",
        "            raw = np.array(raw.resize(self.sz))\n",
        "            X_test.append(raw)\n",
        "        X_train = np.array(X_train).astype('float32')\n",
        "        X_train /= 255\n",
        "        X_test = np.array(X_test).astype('float32')\n",
        "        X_test /= 255\n",
        "        self.X_test = X_test\n",
        "        self.X_train = X_train\n",
        "        y = np.array(y)\n",
        "        self.y = np.expand_dims(y,3)\n",
        "        self.sz = self.sz[::-1] + (3,)"
      ],
      "execution_count": 0,
      "outputs": []
    },
    {
      "cell_type": "code",
      "metadata": {
        "id": "vDUhuU-Ski9I",
        "colab_type": "code",
        "colab": {}
      },
      "source": [
        "dataset = 'nails.tar.gz'"
      ],
      "execution_count": 0,
      "outputs": []
    },
    {
      "cell_type": "code",
      "metadata": {
        "id": "OgJn5jlYkmxg",
        "colab_type": "code",
        "colab": {}
      },
      "source": [
        "epochs = 50\n",
        "batch_size = 4\n",
        "val_split = .1\n",
        "sz = (192, 160)"
      ],
      "execution_count": 0,
      "outputs": []
    },
    {
      "cell_type": "code",
      "metadata": {
        "id": "VOGG6TPHkquA",
        "colab_type": "code",
        "colab": {
          "base_uri": "https://localhost:8080/",
          "height": 34
        },
        "outputId": "ac58333e-d126-4438-9075-bb5000506dec"
      },
      "source": [
        "data=preprocess(dataset)\n",
        "X_train = data.X_train\n",
        "X_test = data.X_test\n",
        "X_train.shape,X_test.shape"
      ],
      "execution_count": 43,
      "outputs": [
        {
          "output_type": "execute_result",
          "data": {
            "text/plain": [
              "((192, 160, 192, 3), (21, 160, 192, 3))"
            ]
          },
          "metadata": {
            "tags": []
          },
          "execution_count": 43
        }
      ]
    }
  ]
}